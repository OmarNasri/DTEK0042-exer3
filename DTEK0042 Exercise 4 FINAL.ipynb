{
 "cells": [
  {
   "cell_type": "markdown",
   "metadata": {},
   "source": [
    "# DTEK0042 Exercise 4\n",
    "    Group Members:\n",
    "    1. Omar Nasri\n",
    "    2. Sagar Panwar"
   ]
  },
  {
   "cell_type": "markdown",
   "metadata": {},
   "source": [
    "*** Note for Google Colab Users ***\n",
    "     Because Google Colab doesn't have a button to convert your notebook to .html format here is a quick work around:\n",
    "   1. open a new google colab notebook\n",
    "   2. in the files section in google colab, upload the .ipynb file you want to be converted to .html\n",
    "   3. in your new open notebook run this command in an empty cell: !jupyter nbconvert --to html YourFileName.ipynb\n",
    "   4. after the command is finished running refresh the page\n",
    "   5. In your files section you should see your original .ipynb file that you uploaded and then a .html file of that same notebook.\n",
    "   6. download the .html file and you're good to go!"
   ]
  },
  {
   "cell_type": "markdown",
   "metadata": {},
   "source": [
    "In this exercise, you are required to analyze a SCG signal step-by-step as outlined below.  The deliverables for this exercise are a jupyter notebook and a .html file exported form the notebook. The notebook should includes your code, observations, graphs, and conclusions made upon analyzing the given SCG signals. Please provide caption and description for every figure. "
   ]
  },
  {
   "cell_type": "markdown",
   "metadata": {},
   "source": [
    "## 1- library Imports"
   ]
  },
  {
   "cell_type": "code",
   "execution_count": 1,
   "metadata": {
    "ExecuteTime": {
     "end_time": "2021-10-06T13:40:56.579164Z",
     "start_time": "2021-10-06T13:40:56.573277Z"
    }
   },
   "outputs": [],
   "source": [
    "#scipy imports\n",
    "#import scipy \n",
    "from scipy import signal,stats\n",
    "#from scipy.signal import butter, filtfilt, freqz\n",
    "\n",
    "#numpy imports\n",
    "import numpy as np\n",
    "\n",
    "#matplotlib imports\n",
    "import matplotlib.pyplot as plt\n",
    "\n",
    "#sklean imports\n",
    "from sklearn.decomposition import PCA\n",
    "from sklearn import preprocessing \n",
    "from scipy.stats import skew\n",
    "from scipy import stats\n",
    "#other imports\n",
    "from glob import glob"
   ]
  },
  {
   "cell_type": "markdown",
   "metadata": {},
   "source": [
    "# Data Import \n",
    "* Load the .txt files of SCG data that are stored in the folder named “dataset” into your python environment.  \n",
    "* For each .txt data file, select the 3rd column which contains the Z-axis of the SCG signals. \n",
    "* Note: the sampling frequency of this signal is 200 Hz. \n",
    "\n",
    "        Hint:  \n",
    "        * to automate the loading process you can get a list of all data file paths using glob package and subsequently load the files in a for loop. \n",
    "        \n",
    "        * dataFiles = glob.glob(path_to_dataset) to get a list of file paths of \"dataset\\xxdata.txt\"\n",
    "        \n",
    "         then load the paths one by one in a loop"
   ]
  },
  {
   "cell_type": "code",
   "execution_count": 2,
   "metadata": {},
   "outputs": [
    {
     "name": "stdout",
     "output_type": "stream",
     "text": [
      "'DTEK0042 Exercise 4 FINAL.ipynb'   Noisy_data_3.txt    Normal_data_2.txt\r\n",
      " Noisy_data_1.txt\t\t    Noisy_data_4.txt    Normal_data_3.txt\r\n",
      " Noisy_data_2.txt\t\t    Normal_data_1.txt   Normal_data_4.txt\r\n"
     ]
    }
   ],
   "source": [
    "!ls"
   ]
  },
  {
   "cell_type": "code",
   "execution_count": 3,
   "metadata": {},
   "outputs": [
    {
     "name": "stdout",
     "output_type": "stream",
     "text": [
      "/home/spanwar/Documents/collage/lectures/biosignals/projects/ex4\r\n"
     ]
    }
   ],
   "source": [
    "!pwd"
   ]
  },
  {
   "cell_type": "code",
   "execution_count": 4,
   "metadata": {
    "ExecuteTime": {
     "end_time": "2021-10-06T13:40:59.732305Z",
     "start_time": "2021-10-06T13:40:59.718493Z"
    }
   },
   "outputs": [],
   "source": [
    "fs=200 #samp freq"
   ]
  },
  {
   "cell_type": "code",
   "execution_count": 5,
   "metadata": {},
   "outputs": [],
   "source": [
    "# Load Data\n",
    "data_path_dict = {}\n",
    "for path in glob('/home/spanwar/Documents/collage/lectures/biosignals/projects/ex4/*.txt'):\n",
    "    name = path.split('/')[-1]\n",
    "    data_path_dict[name] = path"
   ]
  },
  {
   "cell_type": "code",
   "execution_count": 6,
   "metadata": {},
   "outputs": [
    {
     "data": {
      "text/plain": [
       "dict_values(['/home/spanwar/Documents/collage/lectures/biosignals/projects/ex4/Noisy_data_1.txt', '/home/spanwar/Documents/collage/lectures/biosignals/projects/ex4/Normal_data_4.txt', '/home/spanwar/Documents/collage/lectures/biosignals/projects/ex4/Normal_data_2.txt', '/home/spanwar/Documents/collage/lectures/biosignals/projects/ex4/Normal_data_3.txt', '/home/spanwar/Documents/collage/lectures/biosignals/projects/ex4/Noisy_data_3.txt', '/home/spanwar/Documents/collage/lectures/biosignals/projects/ex4/Normal_data_1.txt', '/home/spanwar/Documents/collage/lectures/biosignals/projects/ex4/Noisy_data_4.txt', '/home/spanwar/Documents/collage/lectures/biosignals/projects/ex4/Noisy_data_2.txt'])"
      ]
     },
     "execution_count": 6,
     "metadata": {},
     "output_type": "execute_result"
    }
   ],
   "source": [
    "data_path_dict.values()"
   ]
  },
  {
   "cell_type": "code",
   "execution_count": 7,
   "metadata": {},
   "outputs": [
    {
     "data": {
      "text/plain": [
       "'/home/spanwar/Documents/collage/lectures/biosignals/projects/ex4/Noisy_data_1.txt'"
      ]
     },
     "execution_count": 7,
     "metadata": {},
     "output_type": "execute_result"
    }
   ],
   "source": [
    "list(data_path_dict.values())[0]"
   ]
  },
  {
   "cell_type": "code",
   "execution_count": 8,
   "metadata": {},
   "outputs": [],
   "source": [
    "def read_ssg_data(content):\n",
    "    arr = []    \n",
    "    for index, val in enumerate(content.split('\\n')):\n",
    "        try:\n",
    "            if val=='':\n",
    "                continue\n",
    "            arr.append(float(val.split(' ')[2]))\n",
    "        except:\n",
    "            print(index,val)\n",
    "            \n",
    "    return arr"
   ]
  },
  {
   "cell_type": "code",
   "execution_count": 9,
   "metadata": {},
   "outputs": [],
   "source": [
    "data_dict = {}\n",
    "for name in data_path_dict:\n",
    "    with open(data_path_dict[name], 'r') as f:\n",
    "        content = f.read()\n",
    "        data_dict[name] = read_ssg_data(content)"
   ]
  },
  {
   "cell_type": "code",
   "execution_count": 10,
   "metadata": {},
   "outputs": [],
   "source": [
    "# data_dict"
   ]
  },
  {
   "cell_type": "markdown",
   "metadata": {},
   "source": [
    "# Noisy Vs Normal Plotting\n",
    "\n",
    "* Plot the z-axis SCG signal from the file \"Noisy_data_1.txt\" and plot the z-axis SCG signal from the file \"Normal_data_1.txt\" \n",
    "* Describe your observations and how the plots differ from one another.\n"
   ]
  },
  {
   "cell_type": "code",
   "execution_count": 11,
   "metadata": {},
   "outputs": [
    {
     "data": {
      "text/plain": [
       "200"
      ]
     },
     "execution_count": 11,
     "metadata": {},
     "output_type": "execute_result"
    }
   ],
   "source": [
    "noisy_data_1 = data_dict['Noisy_data_1.txt']\n",
    "seconds_time = np.linspace(0,(len(noisy_data_1)/fs),len(noisy_data_1))\n",
    "fs"
   ]
  },
  {
   "cell_type": "code",
   "execution_count": 12,
   "metadata": {},
   "outputs": [
    {
     "data": {
      "text/plain": [
       "30.495"
      ]
     },
     "execution_count": 12,
     "metadata": {},
     "output_type": "execute_result"
    }
   ],
   "source": [
    "len(noisy_data_1)/fs"
   ]
  },
  {
   "cell_type": "code",
   "execution_count": 13,
   "metadata": {},
   "outputs": [
    {
     "data": {
      "image/png": "[encoded data removed]",
      "text/plain": [
       "<Figure size 640x480 with 1 Axes>"
      ]
     },
     "metadata": {},
     "output_type": "display_data"
    },
    {
     "data": {
      "image/png": "[encoded data removed]",
      "text/plain": [
       "<Figure size 640x480 with 1 Axes>"
      ]
     },
     "metadata": {},
     "output_type": "display_data"
    }
   ],
   "source": [
    "# plt.figure(figsize=(12,7))\n",
    "# plt.subplot(1,2,2)\n",
    "plt.plot(seconds_time, noisy_data_1) \n",
    "plt.title(\"Noisy_data_1\")\n",
    "plt.xlabel(\"Seconds\",fontsize=16)\n",
    "plt.ylabel(\"Amplitude\",fontsize=16)\n",
    "plt.yticks([])  \n",
    "plt.show()\n",
    "\n",
    "# plt.subplot(1,2,2)\n",
    "normal_data_1 = data_dict['Normal_data_1.txt']\n",
    "seconds_time = np.linspace(0,(len(normal_data_1)/fs),len(normal_data_1))\n",
    "# plt.figure(figsize=(12,7))\n",
    "plt.plot(seconds_time, normal_data_1) \n",
    "plt.title(\"Normal_data_1\")\n",
    "plt.xlabel(\"Seconds\",fontsize=16)\n",
    "plt.ylabel(\"Amplitude\",fontsize=16)\n",
    "# plt.yticks([])  \n",
    "plt.show()"
   ]
  },
  {
   "cell_type": "markdown",
   "metadata": {},
   "source": [
    "`Observation`\n",
    "\n",
    "Noisy_data_1 have shorter time duration than Normal_data_1\n",
    "\n",
    "Noisy_data_1 is noiser than Normal_data_1. Normal_data_1 peak are more distinct than noisy data"
   ]
  },
  {
   "cell_type": "markdown",
   "metadata": {},
   "source": [
    "# Data Segmentation \n",
    "* Here is a simple function to use for data segmentation\n",
    "* Segment the Z-axis signals into 5-second segments\n",
    "* The sampling frequency used to record these signals is 200 Hz.\n",
    "* Store the segments and the accompanying labels"
   ]
  },
  {
   "cell_type": "code",
   "execution_count": 16,
   "metadata": {},
   "outputs": [
    {
     "data": {
      "text/plain": [
       "1000"
      ]
     },
     "execution_count": 16,
     "metadata": {},
     "output_type": "execute_result"
    }
   ],
   "source": [
    "fs*5"
   ]
  },
  {
   "cell_type": "code",
   "execution_count": 17,
   "metadata": {
    "ExecuteTime": {
     "end_time": "2021-10-06T13:53:52.644150Z",
     "start_time": "2021-10-06T13:53:52.638170Z"
    }
   },
   "outputs": [],
   "source": [
    "#code (provided)\n",
    "\n",
    "def _slicing(sig, file_label, segment_length = 1000):\n",
    "    \n",
    "    \"\"\"\n",
    "    inputs:\n",
    "    sig : input array to be segmented\n",
    "    file_label : label to be applied to segmented signal\n",
    "    segment_length : Length in samples of the segments produced from the input signal\n",
    "    \n",
    "    outputs:\n",
    "    sig_sliced : a list of segments\n",
    "    label : a list of corresponding labels for the segmented signal \n",
    "    \n",
    "    \"\"\"\n",
    "\n",
    "    sig_sliced = []\n",
    "    label = []\n",
    "    \n",
    "    # slicing \n",
    "    \n",
    "    for i in np.arange(int(len(sig)/segment_length)):\n",
    "\n",
    "        sig_sliced.append( sig[i*segment_length:(i+1)*segment_length] )\n",
    "\n",
    "        label.append(file_label)\n",
    "        \n",
    "    return (sig_sliced , label)"
   ]
  },
  {
   "cell_type": "markdown",
   "metadata": {},
   "source": [
    "***Info: I have used this code in section 6."
   ]
  },
  {
   "cell_type": "markdown",
   "metadata": {},
   "source": [
    "# Feature Extraction Function Creation\n",
    "*  Define a function and name it “feature_extraction” in which you compute and return the features listed below\n",
    "    * *Time Domain Features*:  mean, standard deviation, interquartile-range, median, peak-to-peak range, skewness, kurtosis, and root mean square. \n",
    "    * *Frequency Domain Features*: power spectral density (using welch function of scipy)\n",
    "    \n",
    "        * For power spectral density, Calculate the total power spectral density within frequency bins of 4 Hz steps. Discard the frequencies above 40 Hz. Get the power within each bin.\n",
    "    \n",
    "        Hint:\n",
    "        \n",
    "        Reference: https://docs.scipy.org/doc/scipy/reference/stats.html for skewness, kurtosis, interquartile-range(iqr)\n",
    "        \n",
    "        Reference: https://numpy.org/doc/stable/reference/routines.statistics.html for other time domain features\n",
    "        \n",
    "        Reference: https://scikit-learn.org/stable/modules/generated/sklearn.preprocessing.scale.html for transforming to zero mean and unit variance\n",
    "\n"
   ]
  },
  {
   "cell_type": "code",
   "execution_count": 18,
   "metadata": {
    "ExecuteTime": {
     "end_time": "2021-10-06T13:41:14.259449Z",
     "start_time": "2021-10-06T13:41:14.248903Z"
    }
   },
   "outputs": [],
   "source": [
    "#code\n",
    "def feature_extraction(sig, fs = 200):\n",
    "    \n",
    "    \n",
    "    \"\"\"\n",
    "    inputs:\n",
    "    sig : input array to extract features from\n",
    "    fs : sampling frequency of input array\n",
    "\n",
    "    \n",
    "    outputs:\n",
    "    feature_array: an array containing all the features extracted from the signal \n",
    "    \"\"\"\n",
    "    \n",
    "    \n",
    "    ########################################## statistical features - time domain\n",
    "    mean         = np.mean(sig)\n",
    "    std          = np.std(sig)\n",
    "    iqr          = np.percentile(sig, 75) - np.percentile(sig, 25)\n",
    "    median       = np.median(sig)\n",
    "    peak_to_peak = np.ptp(sig)\n",
    "    skewness     = skew(sig, axis=0, bias=True)\n",
    "    kurtosis     = stats.kurtosis(sig, axis=0, bias=True)\n",
    "    rms          = np.sqrt(np.mean([val*val for val in sig]))\n",
    "\n",
    "    \n",
    "\n",
    "        \n",
    "    ########################################## PSD \n",
    "    \n",
    "    # transforming to zero mean and unit variance -- only do this when extracting PSD\n",
    "    # Hint: transfromed_sig = function_for_scale(sig)\n",
    "    transfromed_sig = preprocessing.scale(sig)\n",
    "    frequencies , PSD = signal.welch(transfromed_sig, fs=fs)\n",
    "    \n",
    "    freqs_arr = np.arange(0,41,4)\n",
    "    \n",
    "    PSD_binned_sum = [] \n",
    "    \n",
    "    for i in range(freqs_arr.shape[0]-1): \n",
    "        \n",
    "        PSD_binned_sum.append (np.sum(PSD[np.where( (frequencies >= freqs_arr[i] ) & \n",
    "                                                   ( frequencies < freqs_arr[i+1] ) )]) )\n",
    "        \n",
    "    \n",
    "    # return the feature array\n",
    "    \n",
    "    feature_array = [mean, std, iqr, median, peak_to_peak, skewness, kurtosis, rms] + PSD_binned_sum\n",
    "    return feature_array"
   ]
  },
  {
   "cell_type": "markdown",
   "metadata": {},
   "source": [
    "# Feature Extraction Application\n",
    "\n",
    "* You must first segment your signals and then extract features from each segment. You could do it in the following way:\n",
    "\n",
    "\n",
    "\n",
    "* Call the _slicing function to section all the z-axis data into 5-second segments\n",
    "        Hint: Load each file in \"dataFiles\" with for-loop\n",
    "* Use the feature extraction function you created and extract features from every segment that you have obtained.\n",
    "* Store the labels and the features you extracted from each segment to numpy arrays. \n",
    "        Hint: Think of an easy way to extract the label \"noisy\" or \"normal\" from each file name\n",
    "        str.split() could be used somehow in this case"
   ]
  },
  {
   "cell_type": "code",
   "execution_count": null,
   "metadata": {
    "ExecuteTime": {
     "end_time": "2021-10-06T13:58:46.299478Z",
     "start_time": "2021-10-06T13:58:44.855565Z"
    },
    "scrolled": true
   },
   "outputs": [],
   "source": []
  },
  {
   "cell_type": "code",
   "execution_count": 19,
   "metadata": {},
   "outputs": [
    {
     "data": {
      "text/plain": [
       "dict_keys(['Noisy_data_1.txt', 'Normal_data_4.txt', 'Normal_data_2.txt', 'Normal_data_3.txt', 'Noisy_data_3.txt', 'Normal_data_1.txt', 'Noisy_data_4.txt', 'Noisy_data_2.txt'])"
      ]
     },
     "execution_count": 19,
     "metadata": {},
     "output_type": "execute_result"
    }
   ],
   "source": [
    "data_dict.keys()"
   ]
  },
  {
   "cell_type": "code",
   "execution_count": 20,
   "metadata": {},
   "outputs": [
    {
     "name": "stdout",
     "output_type": "stream",
     "text": [
      "['Noisy', 'Noisy', 'Noisy', 'Noisy', 'Noisy', 'Noisy'] 6\n",
      "['Normal', 'Normal', 'Normal', 'Normal', 'Normal', 'Normal', 'Normal', 'Normal', 'Normal', 'Normal', 'Normal', 'Normal'] 12\n",
      "['Normal', 'Normal', 'Normal', 'Normal', 'Normal', 'Normal', 'Normal', 'Normal', 'Normal', 'Normal', 'Normal', 'Normal'] 12\n",
      "['Normal', 'Normal', 'Normal', 'Normal', 'Normal', 'Normal', 'Normal', 'Normal', 'Normal', 'Normal', 'Normal', 'Normal', 'Normal', 'Normal'] 14\n",
      "['Noisy', 'Noisy', 'Noisy', 'Noisy', 'Noisy', 'Noisy', 'Noisy'] 7\n",
      "['Normal', 'Normal', 'Normal', 'Normal', 'Normal', 'Normal', 'Normal', 'Normal', 'Normal', 'Normal', 'Normal', 'Normal'] 12\n",
      "['Noisy', 'Noisy', 'Noisy', 'Noisy', 'Noisy', 'Noisy'] 6\n",
      "['Noisy', 'Noisy', 'Noisy', 'Noisy', 'Noisy', 'Noisy'] 6\n"
     ]
    }
   ],
   "source": [
    "feature_data_dict = {}\n",
    "for name in data_dict:\n",
    "    label   = name.split('_')[0]\n",
    "    segments = _slicing(data_dict[name], label, segment_length = 1000)[0]\n",
    "    labels   = _slicing(data_dict[name], label, segment_length = 1000)[1]\n",
    "    print(labels, len(segments))\n",
    "    segments_feature = []\n",
    "    for segment in segments:\n",
    "#         print(len(segment))\n",
    "        segments_feature.append(feature_extraction(segment))\n",
    "        \n",
    "    feature_data_dict[name] = [segments_feature, labels]"
   ]
  },
  {
   "cell_type": "code",
   "execution_count": 22,
   "metadata": {},
   "outputs": [
    {
     "data": {
      "text/plain": [
       "([9.6743722145,\n",
       "  0.08045208061766794,\n",
       "  0.10534700000000008,\n",
       "  9.672562,\n",
       "  0.5889740000000003,\n",
       "  -0.018598898059619957,\n",
       "  0.23240342301432015,\n",
       "  9.674706728473238,\n",
       "  0.27156056231798664,\n",
       "  0.2734060663165735,\n",
       "  0.2600949475548179,\n",
       "  0.07021975246449824,\n",
       "  0.05818867080752726,\n",
       "  0.02524253721053984,\n",
       "  0.02624656514000224,\n",
       "  0.0219296801363304,\n",
       "  0.022506387894035352,\n",
       "  0.01688726282290388],\n",
       " 'Noisy')"
      ]
     },
     "execution_count": 22,
     "metadata": {},
     "output_type": "execute_result"
    }
   ],
   "source": [
    "# segment 1 feature array of Noisy_data_1.txt\n",
    "feature_data_dict['Noisy_data_1.txt'][0][0], feature_data_dict['Noisy_data_1.txt'][1][0]"
   ]
  },
  {
   "cell_type": "markdown",
   "metadata": {},
   "source": [
    "# Standardize Features\n",
    "Hint:\n",
    "\n",
    "    Use sklearn.preprocessing.scale() to standardize the features\n",
    "    Reference: https://scikit-learn.org/stable/modules/generated/sklearn.preprocessing.scale.html"
   ]
  },
  {
   "cell_type": "code",
   "execution_count": 23,
   "metadata": {
    "ExecuteTime": {
     "end_time": "2021-10-06T13:59:01.746425Z",
     "start_time": "2021-10-06T13:59:01.740041Z"
    }
   },
   "outputs": [
    {
     "name": "stdout",
     "output_type": "stream",
     "text": [
      "75\n",
      "75\n"
     ]
    }
   ],
   "source": [
    "# standardize_feature_dict = {}\n",
    "all_segments_feature = []\n",
    "all_lebels           = []\n",
    "for name in feature_data_dict:\n",
    "    segments_feature = feature_data_dict[name][0]\n",
    "    labels           = feature_data_dict[name][1]    \n",
    "    \n",
    "    all_segments_feature = all_segments_feature + segments_feature\n",
    "    all_lebels           = all_lebels + labels\n",
    "    \n",
    "print(len(all_segments_feature))\n",
    "all_segments_feature_standardize = preprocessing.scale(all_segments_feature)    \n",
    "print(len(all_segments_feature_standardize))"
   ]
  },
  {
   "cell_type": "code",
   "execution_count": 24,
   "metadata": {},
   "outputs": [
    {
     "data": {
      "text/plain": [
       "([9.6743722145,\n",
       "  0.08045208061766794,\n",
       "  0.10534700000000008,\n",
       "  9.672562,\n",
       "  0.5889740000000003,\n",
       "  -0.018598898059619957,\n",
       "  0.23240342301432015,\n",
       "  9.674706728473238,\n",
       "  0.27156056231798664,\n",
       "  0.2734060663165735,\n",
       "  0.2600949475548179,\n",
       "  0.07021975246449824,\n",
       "  0.05818867080752726,\n",
       "  0.02524253721053984,\n",
       "  0.02624656514000224,\n",
       "  0.0219296801363304,\n",
       "  0.022506387894035352,\n",
       "  0.01688726282290388],\n",
       " array([ 1.56212001, -0.16268621,  0.11373458,  1.55406823, -0.29131355,\n",
       "        -0.3639106 , -0.73648518,  1.56130542,  1.1105535 ,  0.28141547,\n",
       "         1.06983084, -0.74877852, -0.73298331, -1.00024774, -0.51294573,\n",
       "        -0.49738447, -0.37812806, -0.2076166 ]))"
      ]
     },
     "execution_count": 24,
     "metadata": {},
     "output_type": "execute_result"
    }
   ],
   "source": [
    "# comparison between normal features and standardize features\n",
    "all_segments_feature[0], all_segments_feature_standardize[0]"
   ]
  },
  {
   "cell_type": "markdown",
   "metadata": {},
   "source": [
    "# Principal Component Analysis\n",
    "* Principal Component Analysis (PCA) is used to reduce the dimensionality of a data set consisting of many variables correlated with each other. This can then be used to visualize the data in a more practical way. \n",
    "* Compute the first and 2nd principal components\n",
    "* Plot the two components on a scatter plot with the coloring done by label\n",
    "* Are these features useful to seperate the two types of signals (noisy vs normal)?\n",
    "* Describe your observations.\n",
    "    \n",
    "        Hint:\n",
    "        my_pca=PCA(n_components=2)\n",
    "        pca_out = my_pca.fit_transform(input)"
   ]
  },
  {
   "cell_type": "code",
   "execution_count": 25,
   "metadata": {
    "ExecuteTime": {
     "end_time": "2021-10-06T14:03:20.794904Z",
     "start_time": "2021-10-06T14:03:20.427399Z"
    }
   },
   "outputs": [],
   "source": [
    "from sklearn.decomposition import PCA\n",
    "import pandas as pd"
   ]
  },
  {
   "cell_type": "code",
   "execution_count": 26,
   "metadata": {},
   "outputs": [
    {
     "data": {
      "text/plain": [
       "(75, 75)"
      ]
     },
     "execution_count": 26,
     "metadata": {},
     "output_type": "execute_result"
    }
   ],
   "source": [
    "len(all_segments_feature), len(all_segments_feature_standardize)"
   ]
  },
  {
   "cell_type": "code",
   "execution_count": 27,
   "metadata": {},
   "outputs": [],
   "source": [
    "my_pca  = PCA(n_components=2)"
   ]
  },
  {
   "cell_type": "code",
   "execution_count": 28,
   "metadata": {},
   "outputs": [],
   "source": [
    "data_pca = my_pca.fit_transform(all_segments_feature_standardize)"
   ]
  },
  {
   "cell_type": "code",
   "execution_count": 29,
   "metadata": {},
   "outputs": [
    {
     "data": {
      "text/plain": [
       "75"
      ]
     },
     "execution_count": 29,
     "metadata": {},
     "output_type": "execute_result"
    }
   ],
   "source": [
    "len(data_pca)"
   ]
  },
  {
   "cell_type": "code",
   "execution_count": 30,
   "metadata": {},
   "outputs": [],
   "source": [
    "df = pd.DataFrame(data_pca, columns=[0, 1])\n",
    "df['label'] = all_lebels\n",
    "df['label'] = df['label'].astype('category')"
   ]
  },
  {
   "cell_type": "code",
   "execution_count": 31,
   "metadata": {},
   "outputs": [
    {
     "data": {
      "text/plain": [
       "<Axes: xlabel='0', ylabel='1'>"
      ]
     },
     "execution_count": 31,
     "metadata": {},
     "output_type": "execute_result"
    },
    {
     "data": {
      "image/png": "[encoded data removed]",
      "text/plain": [
       "<Figure size 640x480 with 2 Axes>"
      ]
     },
     "metadata": {},
     "output_type": "display_data"
    }
   ],
   "source": [
    "df.plot.scatter(0, 1, c='label', colormap='brg')"
   ]
  },
  {
   "cell_type": "markdown",
   "metadata": {},
   "source": [
    "# Observations "
   ]
  },
  {
   "cell_type": "markdown",
   "metadata": {},
   "source": [
    "Clearly we can observe a distinction between noisy and normal data. According to results we can categories the data based on the extracted features"
   ]
  },
  {
   "cell_type": "markdown",
   "metadata": {},
   "source": []
  }
 ],
 "metadata": {
  "kernelspec": {
   "display_name": "statics_env",
   "language": "python",
   "name": "statics_env"
  },
  "language_info": {
   "codemirror_mode": {
    "name": "ipython",
    "version": 3
   },
   "file_extension": ".py",
   "mimetype": "text/x-python",
   "name": "python",
   "nbconvert_exporter": "python",
   "pygments_lexer": "ipython3",
   "version": "3.10.9"
  },
  "toc": {
   "base_numbering": 1,
   "nav_menu": {},
   "number_sections": true,
   "sideBar": true,
   "skip_h1_title": false,
   "title_cell": "Table of Contents",
   "title_sidebar": "Contents",
   "toc_cell": false,
   "toc_position": {},
   "toc_section_display": true,
   "toc_window_display": false
  },
  "varInspector": {
   "cols": {
    "lenName": 16,
    "lenType": 16,
    "lenVar": 40
   },
   "kernels_config": {
    "python": {
     "delete_cmd_postfix": "",
     "delete_cmd_prefix": "del ",
     "library": "var_list.py",
     "varRefreshCmd": "print(var_dic_list())"
    },
    "r": {
     "delete_cmd_postfix": ") ",
     "delete_cmd_prefix": "rm(",
     "library": "var_list.r",
     "varRefreshCmd": "cat(var_dic_list()) "
    }
   },
   "types_to_exclude": [
    "module",
    "function",
    "builtin_function_or_method",
    "instance",
    "_Feature"
   ],
   "window_display": false
  }
 },
 "nbformat": 4,
 "nbformat_minor": 2
}
